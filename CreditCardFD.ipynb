{
 "cells": [
  {
   "cell_type": "markdown",
   "id": "acca36c4-71ec-4d8f-a9dc-b488ddad636c",
   "metadata": {},
   "source": [
    "# Credit_card Fraud Detection"
   ]
  },
  {
   "cell_type": "markdown",
   "id": "61f0be41-b925-4c4c-a98c-47448e53b0d2",
   "metadata": {},
   "source": [
    "Goal: To detect the Fraud"
   ]
  },
  {
   "cell_type": "code",
   "execution_count": null,
   "id": "c4bd99a9-97a0-4b94-83ae-859d002cabf3",
   "metadata": {},
   "outputs": [],
   "source": [
    "import numpy as np\n",
    "import pandas as pd"
   ]
  },
  {
   "cell_type": "code",
   "execution_count": null,
   "id": "5c9ecf48-d584-46a4-b068-a96451b34071",
   "metadata": {},
   "outputs": [],
   "source": [
    "df=pd.read_csv(\"Downloads/creditcard.csv\")\n",
    "df.head(10)"
   ]
  },
  {
   "cell_type": "code",
   "execution_count": null,
   "id": "b528f192-6114-48e9-b67f-3d4ae7f64a29",
   "metadata": {},
   "outputs": [],
   "source": [
    "df.describe()"
   ]
  },
  {
   "cell_type": "code",
   "execution_count": null,
   "id": "f318f9ba-51e4-4748-be26-3b69e3fd5535",
   "metadata": {},
   "outputs": [],
   "source": [
    "df.info() \n",
    "# the whole information about the values in the dataset."
   ]
  },
  {
   "cell_type": "code",
   "execution_count": null,
   "id": "dc34959a-3b35-4693-88ea-ed966134015f",
   "metadata": {},
   "outputs": [],
   "source": [
    "df.shape\n",
    "# shape of the data gives the number of rows and columns in the dataset"
   ]
  },
  {
   "cell_type": "code",
   "execution_count": null,
   "id": "6a04bbf1-37aa-4b5b-b3c7-62271798c3e8",
   "metadata": {},
   "outputs": [],
   "source": [
    "duplicates=df.duplicated()\n",
    "# checking whether the data contains the duplicates or not.\n",
    "print(\"Duplicate_rows:\\n\",duplicates.sum())"
   ]
  },
  {
   "cell_type": "code",
   "execution_count": null,
   "id": "7b3454bb-fbe7-45ed-ae65-ef10b2f56d35",
   "metadata": {},
   "outputs": [],
   "source": [
    "df.drop_duplicates()\n",
    "# dropping the datasets"
   ]
  },
  {
   "cell_type": "code",
   "execution_count": null,
   "id": "86d0b188-f468-4cae-8a44-e17b8069c426",
   "metadata": {},
   "outputs": [],
   "source": [
    "df.isnull().sum()\n",
    "# the dataset does not consists of the null values in any column"
   ]
  },
  {
   "cell_type": "code",
   "execution_count": null,
   "id": "60a0da63-f474-40ac-8e87-dd4db40575de",
   "metadata": {},
   "outputs": [],
   "source": [
    "df[\"Class\"].value_counts()"
   ]
  },
  {
   "cell_type": "code",
   "execution_count": null,
   "id": "1f973a8e-aea3-4744-afa7-3c8075480428",
   "metadata": {},
   "outputs": [],
   "source": [
    "# normalising\n",
    "df[\"Class\"].value_counts(normalize=True)"
   ]
  },
  {
   "cell_type": "code",
   "execution_count": null,
   "id": "cb614721-086a-475b-92cf-aaeb06a22a79",
   "metadata": {},
   "outputs": [],
   "source": [
    "# scaling the time and amount columns\n",
    "# importing the sklearn \n",
    "from sklearn.preprocessing import StandardScaler\n",
    "ss=StandardScaler()"
   ]
  },
  {
   "cell_type": "code",
   "execution_count": null,
   "id": "573055a9-193f-411d-8602-f2ba5f4b5c44",
   "metadata": {},
   "outputs": [],
   "source": [
    "df[\"Time\"]=ss.fit_transform(df[[\"Time\"]])\n",
    "df[\"Time\"]"
   ]
  },
  {
   "cell_type": "code",
   "execution_count": null,
   "id": "d807d879-9160-4c1f-be5b-1a93dd55e2af",
   "metadata": {},
   "outputs": [],
   "source": [
    "df[\"Amount\"]=ss.fit_transform(df[[\"Amount\"]])\n",
    "df[\"Amount\"]"
   ]
  },
  {
   "cell_type": "code",
   "execution_count": null,
   "id": "622aa8b2-1f9a-4566-b48b-edd223b60301",
   "metadata": {},
   "outputs": [],
   "source": [
    "df[\"Time\"].unique()"
   ]
  },
  {
   "cell_type": "code",
   "execution_count": null,
   "id": "f3ad8370-d3d3-42aa-89b2-a69d829b2de6",
   "metadata": {},
   "outputs": [],
   "source": [
    "df.corr()"
   ]
  },
  {
   "cell_type": "code",
   "execution_count": null,
   "id": "b9a5e372-fb0b-4cfc-b4dc-992dd2d7d98a",
   "metadata": {},
   "outputs": [],
   "source": [
    "from sklearn.model_selection import train_test_split\n",
    "from imblearn.over_sampling import RandomOverSampler"
   ]
  },
  {
   "cell_type": "code",
   "execution_count": null,
   "id": "65a7cfe0-7a90-431e-a2a1-31c1ae5626bf",
   "metadata": {},
   "outputs": [],
   "source": [
    "X = df.drop('Class', axis=1)  # All columns except the target\n",
    "y = df['Class'] \n",
    "\n",
    "ros=RandomOverSampler(random_state=1)\n",
    "X_res,y_res=ros.fit_resample(X,y)\n",
    "print(X_res.shape)\n",
    "print(y_res.value_counts())"
   ]
  },
  {
   "cell_type": "code",
   "execution_count": null,
   "id": "7df98f24-a62d-4eeb-9051-1221218d1f3f",
   "metadata": {},
   "outputs": [],
   "source": [
    "X_train, X_test, y_train, y_test = train_test_split(X_res, y_res, test_size=0.2, random_state=42)\n",
    "\n",
    "# Now X_train is ready to be used for training your model\n",
    "print(X_train.shape)\n",
    "print(X_train.head())"
   ]
  },
  {
   "cell_type": "code",
   "execution_count": null,
   "id": "3217cc28-8af9-4e07-95a7-cc7e52b594b1",
   "metadata": {},
   "outputs": [],
   "source": [
    "from sklearn.linear_model import LogisticRegression\n",
    "lr = LogisticRegression(max_iter=1000)\n",
    "lr.fit(X_train, y_train)"
   ]
  },
  {
   "cell_type": "code",
   "execution_count": null,
   "id": "7c493699-421f-4617-a9fe-2ababdad5ebb",
   "metadata": {},
   "outputs": [],
   "source": [
    "y_pred=lr.predict(X_test)\n",
    "y_pred"
   ]
  },
  {
   "cell_type": "code",
   "execution_count": null,
   "id": "53e93086-db30-46e1-a852-284fd55ca094",
   "metadata": {},
   "outputs": [],
   "source": [
    "y_prob=lr.predict_proba(X_test)[:, 1]\n",
    "y_prob"
   ]
  },
  {
   "cell_type": "code",
   "execution_count": null,
   "id": "2c5564d3-274a-4acb-ab34-1aa5d2401cc4",
   "metadata": {},
   "outputs": [],
   "source": [
    "from sklearn.metrics import roc_auc_score,accuracy_score,classification_report,confusion_matrix\n",
    "print(\"Accuracy:\\n\",accuracy_score(y_test, y_pred))\n",
    "print(\"AUC-ROC:\", roc_auc_score(y_test, y_prob))\n",
    "print(\"\\n\")\n",
    "print(\"Confusion Matrix:\\n\", confusion_matrix(y_test, y_pred))\n",
    "print(\"Classification Report:\\n\", classification_report(y_test, y_pred))"
   ]
  },
  {
   "cell_type": "code",
   "execution_count": null,
   "id": "245cf70d-6cde-4b00-8800-606e18e250b5",
   "metadata": {},
   "outputs": [],
   "source": []
  },
  {
   "cell_type": "code",
   "execution_count": null,
   "id": "89e3f709-8617-4fb5-93fc-4abb980b967e",
   "metadata": {},
   "outputs": [],
   "source": []
  }
 ],
 "metadata": {
  "kernelspec": {
   "display_name": "Python 3 (ipykernel)",
   "language": "python",
   "name": "python3"
  },
  "language_info": {
   "codemirror_mode": {
    "name": "ipython",
    "version": 3
   },
   "file_extension": ".py",
   "mimetype": "text/x-python",
   "name": "python",
   "nbconvert_exporter": "python",
   "pygments_lexer": "ipython3",
   "version": "3.12.7"
  }
 },
 "nbformat": 4,
 "nbformat_minor": 5
}
